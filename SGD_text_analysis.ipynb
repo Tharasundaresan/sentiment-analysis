{
 "cells": [
  {
   "cell_type": "markdown",
   "metadata": {
    "_cell_guid": "b1076dfc-b9ad-4769-8c92-a6c4dae69d19",
    "_uuid": "8f2839f25d086af736a60e9eeb907d3b93b6e0e5",
    "id": "HBr0GxUjGjlP"
   },
   "source": [
    "**Sentiment Analysis of IMDB Movie Reviews**"
   ]
  },
  {
   "cell_type": "markdown",
   "metadata": {
    "id": "V03_llNoGjlQ"
   },
   "source": [
    "**Problem Statement:**\n",
    "\n",
    "In this, we have to predict the number of positive and negative reviews based on sentiments by using different classification models."
   ]
  },
  {
   "cell_type": "markdown",
   "metadata": {
    "_uuid": "1424638f5259100af9f9a5c1b05bd23cf5b71e51",
    "id": "ozsvapa_GjlQ"
   },
   "source": [
    "**Import necessary libraries**"
   ]
  },
  {
   "cell_type": "code",
   "execution_count": null,
   "metadata": {
    "ExecuteTime": {
     "end_time": "2022-04-08T11:24:43.989999Z",
     "start_time": "2022-04-08T11:24:43.975339Z"
    },
    "_cell_guid": "79c7e3d0-c299-4dcb-8224-4455121ee9b0",
    "_uuid": "d629ff2d2480ee46fbb7e2d37f6b5fab8052498a",
    "execution": {
     "iopub.execute_input": "2022-05-06T15:56:44.207957Z",
     "iopub.status.busy": "2022-05-06T15:56:44.207457Z",
     "iopub.status.idle": "2022-05-06T15:56:46.600265Z",
     "shell.execute_reply": "2022-05-06T15:56:46.599986Z",
     "shell.execute_reply.started": "2022-05-06T15:56:44.207919Z"
    },
    "id": "bAy-_ykjGjlS"
   },
   "outputs": [],
   "source": [
    "#Load the libraries\n",
    "import numpy as np\n",
    "import pandas as pd\n",
    "import seaborn as sns\n",
    "import matplotlib.pyplot as plt\n",
    "import nltk\n",
    "from sklearn.feature_extraction.text import CountVectorizer\n",
    "from sklearn.feature_extraction.text import TfidfVectorizer\n",
    "from sklearn.preprocessing import LabelBinarizer\n",
    "from nltk.corpus import stopwords\n",
    "from nltk.stem.porter import PorterStemmer\n",
    "from wordcloud import WordCloud,STOPWORDS\n",
    "from nltk.stem import WordNetLemmatizer\n",
    "from nltk.tokenize import word_tokenize,sent_tokenize\n",
    "from bs4 import BeautifulSoup\n",
    "import spacy\n",
    "import re,string,unicodedata\n",
    "from nltk.tokenize.toktok import ToktokTokenizer\n",
    "from nltk.stem import LancasterStemmer,WordNetLemmatizer\n",
    "from sklearn.linear_model import LogisticRegression,SGDClassifier\n",
    "from sklearn.naive_bayes import MultinomialNB\n",
    "from sklearn.svm import SVC\n",
    "from textblob import TextBlob\n",
    "from textblob import Word\n",
    "from sklearn.metrics import classification_report,confusion_matrix,accuracy_score\n",
    "import warnings\n",
    "warnings.filterwarnings('ignore')"
   ]
  },
  {
   "cell_type": "markdown",
   "metadata": {
    "_uuid": "be1b642cce343f7a8f68f8c91f7c50372cdf4381",
    "id": "G0jsvAuGGjlS"
   },
   "source": [
    "**Import the training dataset**"
   ]
  },
  {
   "cell_type": "code",
   "execution_count": null,
   "metadata": {
    "ExecuteTime": {
     "end_time": "2022-04-08T11:24:57.587982Z",
     "start_time": "2022-04-08T11:24:56.056268Z"
    },
    "_uuid": "4c593c17588723c0b0b0f19851cb70a8447ced76",
    "colab": {
     "base_uri": "https://localhost:8080/",
     "height": 380
    },
    "execution": {
     "iopub.execute_input": "2022-05-06T15:58:43.215025Z",
     "iopub.status.busy": "2022-05-06T15:58:43.214653Z",
     "iopub.status.idle": "2022-05-06T15:58:43.682668Z",
     "shell.execute_reply": "2022-05-06T15:58:43.682442Z",
     "shell.execute_reply.started": "2022-05-06T15:58:43.214992Z"
    },
    "id": "qB9hHKpIGjlS",
    "outputId": "dc112e0b-95dd-4e90-f1f3-edd589ec66a9",
    "scrolled": true
   },
   "outputs": [
    {
     "name": "stdout",
     "output_type": "stream",
     "text": [
      "(50000, 2)\n"
     ]
    },
    {
     "data": {
      "text/html": [
       "\n",
       "  <div id=\"df-862e474e-3e56-421a-b7da-ff41362dc8eb\">\n",
       "    <div class=\"colab-df-container\">\n",
       "      <div>\n",
       "<style scoped>\n",
       "    .dataframe tbody tr th:only-of-type {\n",
       "        vertical-align: middle;\n",
       "    }\n",
       "\n",
       "    .dataframe tbody tr th {\n",
       "        vertical-align: top;\n",
       "    }\n",
       "\n",
       "    .dataframe thead th {\n",
       "        text-align: right;\n",
       "    }\n",
       "</style>\n",
       "<table border=\"1\" class=\"dataframe\">\n",
       "  <thead>\n",
       "    <tr style=\"text-align: right;\">\n",
       "      <th></th>\n",
       "      <th>review</th>\n",
       "      <th>sentiment</th>\n",
       "    </tr>\n",
       "  </thead>\n",
       "  <tbody>\n",
       "    <tr>\n",
       "      <th>0</th>\n",
       "      <td>One of the other reviewers has mentioned that ...</td>\n",
       "      <td>positive</td>\n",
       "    </tr>\n",
       "    <tr>\n",
       "      <th>1</th>\n",
       "      <td>A wonderful little production. &lt;br /&gt;&lt;br /&gt;The...</td>\n",
       "      <td>positive</td>\n",
       "    </tr>\n",
       "    <tr>\n",
       "      <th>2</th>\n",
       "      <td>I thought this was a wonderful way to spend ti...</td>\n",
       "      <td>positive</td>\n",
       "    </tr>\n",
       "    <tr>\n",
       "      <th>3</th>\n",
       "      <td>Basically there's a family where a little boy ...</td>\n",
       "      <td>negative</td>\n",
       "    </tr>\n",
       "    <tr>\n",
       "      <th>4</th>\n",
       "      <td>Petter Mattei's \"Love in the Time of Money\" is...</td>\n",
       "      <td>positive</td>\n",
       "    </tr>\n",
       "    <tr>\n",
       "      <th>5</th>\n",
       "      <td>Probably my all-time favorite movie, a story o...</td>\n",
       "      <td>positive</td>\n",
       "    </tr>\n",
       "    <tr>\n",
       "      <th>6</th>\n",
       "      <td>I sure would like to see a resurrection of a u...</td>\n",
       "      <td>positive</td>\n",
       "    </tr>\n",
       "    <tr>\n",
       "      <th>7</th>\n",
       "      <td>This show was an amazing, fresh &amp; innovative i...</td>\n",
       "      <td>negative</td>\n",
       "    </tr>\n",
       "    <tr>\n",
       "      <th>8</th>\n",
       "      <td>Encouraged by the positive comments about this...</td>\n",
       "      <td>negative</td>\n",
       "    </tr>\n",
       "    <tr>\n",
       "      <th>9</th>\n",
       "      <td>If you like original gut wrenching laughter yo...</td>\n",
       "      <td>positive</td>\n",
       "    </tr>\n",
       "  </tbody>\n",
       "</table>\n",
       "</div>\n",
       "      <button class=\"colab-df-convert\" onclick=\"convertToInteractive('df-862e474e-3e56-421a-b7da-ff41362dc8eb')\"\n",
       "              title=\"Convert this dataframe to an interactive table.\"\n",
       "              style=\"display:none;\">\n",
       "        \n",
       "  <svg xmlns=\"http://www.w3.org/2000/svg\" height=\"24px\"viewBox=\"0 0 24 24\"\n",
       "       width=\"24px\">\n",
       "    <path d=\"M0 0h24v24H0V0z\" fill=\"none\"/>\n",
       "    <path d=\"M18.56 5.44l.94 2.06.94-2.06 2.06-.94-2.06-.94-.94-2.06-.94 2.06-2.06.94zm-11 1L8.5 8.5l.94-2.06 2.06-.94-2.06-.94L8.5 2.5l-.94 2.06-2.06.94zm10 10l.94 2.06.94-2.06 2.06-.94-2.06-.94-.94-2.06-.94 2.06-2.06.94z\"/><path d=\"M17.41 7.96l-1.37-1.37c-.4-.4-.92-.59-1.43-.59-.52 0-1.04.2-1.43.59L10.3 9.45l-7.72 7.72c-.78.78-.78 2.05 0 2.83L4 21.41c.39.39.9.59 1.41.59.51 0 1.02-.2 1.41-.59l7.78-7.78 2.81-2.81c.8-.78.8-2.07 0-2.86zM5.41 20L4 18.59l7.72-7.72 1.47 1.35L5.41 20z\"/>\n",
       "  </svg>\n",
       "      </button>\n",
       "      \n",
       "  <style>\n",
       "    .colab-df-container {\n",
       "      display:flex;\n",
       "      flex-wrap:wrap;\n",
       "      gap: 12px;\n",
       "    }\n",
       "\n",
       "    .colab-df-convert {\n",
       "      background-color: #E8F0FE;\n",
       "      border: none;\n",
       "      border-radius: 50%;\n",
       "      cursor: pointer;\n",
       "      display: none;\n",
       "      fill: #1967D2;\n",
       "      height: 32px;\n",
       "      padding: 0 0 0 0;\n",
       "      width: 32px;\n",
       "    }\n",
       "\n",
       "    .colab-df-convert:hover {\n",
       "      background-color: #E2EBFA;\n",
       "      box-shadow: 0px 1px 2px rgba(60, 64, 67, 0.3), 0px 1px 3px 1px rgba(60, 64, 67, 0.15);\n",
       "      fill: #174EA6;\n",
       "    }\n",
       "\n",
       "    [theme=dark] .colab-df-convert {\n",
       "      background-color: #3B4455;\n",
       "      fill: #D2E3FC;\n",
       "    }\n",
       "\n",
       "    [theme=dark] .colab-df-convert:hover {\n",
       "      background-color: #434B5C;\n",
       "      box-shadow: 0px 1px 3px 1px rgba(0, 0, 0, 0.15);\n",
       "      filter: drop-shadow(0px 1px 2px rgba(0, 0, 0, 0.3));\n",
       "      fill: #FFFFFF;\n",
       "    }\n",
       "  </style>\n",
       "\n",
       "      <script>\n",
       "        const buttonEl =\n",
       "          document.querySelector('#df-862e474e-3e56-421a-b7da-ff41362dc8eb button.colab-df-convert');\n",
       "        buttonEl.style.display =\n",
       "          google.colab.kernel.accessAllowed ? 'block' : 'none';\n",
       "\n",
       "        async function convertToInteractive(key) {\n",
       "          const element = document.querySelector('#df-862e474e-3e56-421a-b7da-ff41362dc8eb');\n",
       "          const dataTable =\n",
       "            await google.colab.kernel.invokeFunction('convertToInteractive',\n",
       "                                                     [key], {});\n",
       "          if (!dataTable) return;\n",
       "\n",
       "          const docLinkHtml = 'Like what you see? Visit the ' +\n",
       "            '<a target=\"_blank\" href=https://colab.research.google.com/notebooks/data_table.ipynb>data table notebook</a>'\n",
       "            + ' to learn more about interactive tables.';\n",
       "          element.innerHTML = '';\n",
       "          dataTable['output_type'] = 'display_data';\n",
       "          await google.colab.output.renderOutput(dataTable, element);\n",
       "          const docLink = document.createElement('div');\n",
       "          docLink.innerHTML = docLinkHtml;\n",
       "          element.appendChild(docLink);\n",
       "        }\n",
       "      </script>\n",
       "    </div>\n",
       "  </div>\n",
       "  "
      ],
      "text/plain": [
       "                                              review sentiment\n",
       "0  One of the other reviewers has mentioned that ...  positive\n",
       "1  A wonderful little production. <br /><br />The...  positive\n",
       "2  I thought this was a wonderful way to spend ti...  positive\n",
       "3  Basically there's a family where a little boy ...  negative\n",
       "4  Petter Mattei's \"Love in the Time of Money\" is...  positive\n",
       "5  Probably my all-time favorite movie, a story o...  positive\n",
       "6  I sure would like to see a resurrection of a u...  positive\n",
       "7  This show was an amazing, fresh & innovative i...  negative\n",
       "8  Encouraged by the positive comments about this...  negative\n",
       "9  If you like original gut wrenching laughter yo...  positive"
      ]
     },
     "execution_count": 3,
     "metadata": {},
     "output_type": "execute_result"
    }
   ],
   "source": [
    "#importing the training data\n",
    "imdb_data=pd.read_csv('/content/drive/Othercomputers/Dell i7559/Downloads/Projects/Great Learning/Capstone/Datasets/IMDB Dataset.csv')\n",
    "print(imdb_data.shape)\n",
    "imdb_data.head(10)"
   ]
  },
  {
   "cell_type": "markdown",
   "metadata": {
    "_uuid": "1ad3773974351ed9bdf389b2847d7475b36c2295",
    "id": "9jsg3EwMGjlT"
   },
   "source": [
    "**Exploratery data analysis**"
   ]
  },
  {
   "cell_type": "code",
   "execution_count": null,
   "metadata": {
    "ExecuteTime": {
     "end_time": "2022-04-08T11:25:01.636617Z",
     "start_time": "2022-04-08T11:25:01.450315Z"
    },
    "_uuid": "7f11c83b1320c8982b36889145f7f770563674a8",
    "colab": {
     "base_uri": "https://localhost:8080/",
     "height": 175
    },
    "execution": {
     "iopub.execute_input": "2022-05-06T15:58:46.378602Z",
     "iopub.status.busy": "2022-05-06T15:58:46.377764Z",
     "iopub.status.idle": "2022-05-06T15:58:46.467444Z",
     "shell.execute_reply": "2022-05-06T15:58:46.467026Z",
     "shell.execute_reply.started": "2022-05-06T15:58:46.378555Z"
    },
    "id": "jI2MAcJqGjlT",
    "outputId": "bbabe33a-72e5-4eea-866c-6d895804777b"
   },
   "outputs": [
    {
     "data": {
      "text/html": [
       "\n",
       "  <div id=\"df-a166e98f-818c-4e91-ac51-0a09fdcb3c4c\">\n",
       "    <div class=\"colab-df-container\">\n",
       "      <div>\n",
       "<style scoped>\n",
       "    .dataframe tbody tr th:only-of-type {\n",
       "        vertical-align: middle;\n",
       "    }\n",
       "\n",
       "    .dataframe tbody tr th {\n",
       "        vertical-align: top;\n",
       "    }\n",
       "\n",
       "    .dataframe thead th {\n",
       "        text-align: right;\n",
       "    }\n",
       "</style>\n",
       "<table border=\"1\" class=\"dataframe\">\n",
       "  <thead>\n",
       "    <tr style=\"text-align: right;\">\n",
       "      <th></th>\n",
       "      <th>review</th>\n",
       "      <th>sentiment</th>\n",
       "    </tr>\n",
       "  </thead>\n",
       "  <tbody>\n",
       "    <tr>\n",
       "      <th>count</th>\n",
       "      <td>50000</td>\n",
       "      <td>50000</td>\n",
       "    </tr>\n",
       "    <tr>\n",
       "      <th>unique</th>\n",
       "      <td>49582</td>\n",
       "      <td>2</td>\n",
       "    </tr>\n",
       "    <tr>\n",
       "      <th>top</th>\n",
       "      <td>Loved today's show!!! It was a variety and not...</td>\n",
       "      <td>positive</td>\n",
       "    </tr>\n",
       "    <tr>\n",
       "      <th>freq</th>\n",
       "      <td>5</td>\n",
       "      <td>25000</td>\n",
       "    </tr>\n",
       "  </tbody>\n",
       "</table>\n",
       "</div>\n",
       "      <button class=\"colab-df-convert\" onclick=\"convertToInteractive('df-a166e98f-818c-4e91-ac51-0a09fdcb3c4c')\"\n",
       "              title=\"Convert this dataframe to an interactive table.\"\n",
       "              style=\"display:none;\">\n",
       "        \n",
       "  <svg xmlns=\"http://www.w3.org/2000/svg\" height=\"24px\"viewBox=\"0 0 24 24\"\n",
       "       width=\"24px\">\n",
       "    <path d=\"M0 0h24v24H0V0z\" fill=\"none\"/>\n",
       "    <path d=\"M18.56 5.44l.94 2.06.94-2.06 2.06-.94-2.06-.94-.94-2.06-.94 2.06-2.06.94zm-11 1L8.5 8.5l.94-2.06 2.06-.94-2.06-.94L8.5 2.5l-.94 2.06-2.06.94zm10 10l.94 2.06.94-2.06 2.06-.94-2.06-.94-.94-2.06-.94 2.06-2.06.94z\"/><path d=\"M17.41 7.96l-1.37-1.37c-.4-.4-.92-.59-1.43-.59-.52 0-1.04.2-1.43.59L10.3 9.45l-7.72 7.72c-.78.78-.78 2.05 0 2.83L4 21.41c.39.39.9.59 1.41.59.51 0 1.02-.2 1.41-.59l7.78-7.78 2.81-2.81c.8-.78.8-2.07 0-2.86zM5.41 20L4 18.59l7.72-7.72 1.47 1.35L5.41 20z\"/>\n",
       "  </svg>\n",
       "      </button>\n",
       "      \n",
       "  <style>\n",
       "    .colab-df-container {\n",
       "      display:flex;\n",
       "      flex-wrap:wrap;\n",
       "      gap: 12px;\n",
       "    }\n",
       "\n",
       "    .colab-df-convert {\n",
       "      background-color: #E8F0FE;\n",
       "      border: none;\n",
       "      border-radius: 50%;\n",
       "      cursor: pointer;\n",
       "      display: none;\n",
       "      fill: #1967D2;\n",
       "      height: 32px;\n",
       "      padding: 0 0 0 0;\n",
       "      width: 32px;\n",
       "    }\n",
       "\n",
       "    .colab-df-convert:hover {\n",
       "      background-color: #E2EBFA;\n",
       "      box-shadow: 0px 1px 2px rgba(60, 64, 67, 0.3), 0px 1px 3px 1px rgba(60, 64, 67, 0.15);\n",
       "      fill: #174EA6;\n",
       "    }\n",
       "\n",
       "    [theme=dark] .colab-df-convert {\n",
       "      background-color: #3B4455;\n",
       "      fill: #D2E3FC;\n",
       "    }\n",
       "\n",
       "    [theme=dark] .colab-df-convert:hover {\n",
       "      background-color: #434B5C;\n",
       "      box-shadow: 0px 1px 3px 1px rgba(0, 0, 0, 0.15);\n",
       "      filter: drop-shadow(0px 1px 2px rgba(0, 0, 0, 0.3));\n",
       "      fill: #FFFFFF;\n",
       "    }\n",
       "  </style>\n",
       "\n",
       "      <script>\n",
       "        const buttonEl =\n",
       "          document.querySelector('#df-a166e98f-818c-4e91-ac51-0a09fdcb3c4c button.colab-df-convert');\n",
       "        buttonEl.style.display =\n",
       "          google.colab.kernel.accessAllowed ? 'block' : 'none';\n",
       "\n",
       "        async function convertToInteractive(key) {\n",
       "          const element = document.querySelector('#df-a166e98f-818c-4e91-ac51-0a09fdcb3c4c');\n",
       "          const dataTable =\n",
       "            await google.colab.kernel.invokeFunction('convertToInteractive',\n",
       "                                                     [key], {});\n",
       "          if (!dataTable) return;\n",
       "\n",
       "          const docLinkHtml = 'Like what you see? Visit the ' +\n",
       "            '<a target=\"_blank\" href=https://colab.research.google.com/notebooks/data_table.ipynb>data table notebook</a>'\n",
       "            + ' to learn more about interactive tables.';\n",
       "          element.innerHTML = '';\n",
       "          dataTable['output_type'] = 'display_data';\n",
       "          await google.colab.output.renderOutput(dataTable, element);\n",
       "          const docLink = document.createElement('div');\n",
       "          docLink.innerHTML = docLinkHtml;\n",
       "          element.appendChild(docLink);\n",
       "        }\n",
       "      </script>\n",
       "    </div>\n",
       "  </div>\n",
       "  "
      ],
      "text/plain": [
       "                                                   review sentiment\n",
       "count                                               50000     50000\n",
       "unique                                              49582         2\n",
       "top     Loved today's show!!! It was a variety and not...  positive\n",
       "freq                                                    5     25000"
      ]
     },
     "execution_count": 4,
     "metadata": {},
     "output_type": "execute_result"
    }
   ],
   "source": [
    "#Summary of the dataset\n",
    "imdb_data.describe()"
   ]
  },
  {
   "cell_type": "markdown",
   "metadata": {
    "_uuid": "453c3fd238f62ab8f649eb01771817e25bc0c77d",
    "id": "0Wzm9VZhGjlT"
   },
   "source": [
    "**Sentiment count**"
   ]
  },
  {
   "cell_type": "code",
   "execution_count": null,
   "metadata": {
    "ExecuteTime": {
     "end_time": "2022-04-08T11:25:01.664075Z",
     "start_time": "2022-04-08T11:25:01.639265Z"
    },
    "_uuid": "cb6bb97b0f851947dcf341a1de5708a1f2bc64c1",
    "colab": {
     "base_uri": "https://localhost:8080/"
    },
    "execution": {
     "iopub.execute_input": "2022-05-06T15:58:48.813887Z",
     "iopub.status.busy": "2022-05-06T15:58:48.813319Z",
     "iopub.status.idle": "2022-05-06T15:58:48.834255Z",
     "shell.execute_reply": "2022-05-06T15:58:48.833237Z",
     "shell.execute_reply.started": "2022-05-06T15:58:48.813853Z"
    },
    "id": "LFunJcNhGjlT",
    "outputId": "38839f5e-bd30-4679-c048-7cd084b834e2"
   },
   "outputs": [
    {
     "data": {
      "text/plain": [
       "positive    25000\n",
       "negative    25000\n",
       "Name: sentiment, dtype: int64"
      ]
     },
     "execution_count": 5,
     "metadata": {},
     "output_type": "execute_result"
    }
   ],
   "source": [
    "#sentiment count\n",
    "imdb_data['sentiment'].value_counts()"
   ]
  },
  {
   "cell_type": "markdown",
   "metadata": {
    "id": "QdPIOBlrGjlT"
   },
   "source": [
    "We can see that the dataset is balanced."
   ]
  },
  {
   "cell_type": "markdown",
   "metadata": {
    "_uuid": "f61964573faababe1f7897b77d32815a24954d2f",
    "id": "GHOk3N6aGjlT"
   },
   "source": [
    "**Spliting the training dataset**"
   ]
  },
  {
   "cell_type": "code",
   "execution_count": null,
   "metadata": {
    "ExecuteTime": {
     "end_time": "2022-04-08T11:25:01.680473Z",
     "start_time": "2022-04-08T11:25:01.666251Z"
    },
    "_uuid": "d3aaabff555e07feb11c72cc3a6e457615975ffe",
    "colab": {
     "base_uri": "https://localhost:8080/"
    },
    "execution": {
     "iopub.execute_input": "2022-05-06T15:58:50.408925Z",
     "iopub.status.busy": "2022-05-06T15:58:50.408201Z",
     "iopub.status.idle": "2022-05-06T15:58:50.423208Z",
     "shell.execute_reply": "2022-05-06T15:58:50.422528Z",
     "shell.execute_reply.started": "2022-05-06T15:58:50.408871Z"
    },
    "id": "fqlgVcQbGjlT",
    "outputId": "d5c3b97b-d480-42f4-8101-b7743d0f4cc5"
   },
   "outputs": [
    {
     "name": "stdout",
     "output_type": "stream",
     "text": [
      "(40000,) (40000,)\n",
      "(10000,) (10000,)\n"
     ]
    }
   ],
   "source": [
    "#split the dataset  \n",
    "#train dataset\n",
    "train_reviews=imdb_data.review[:40000]\n",
    "train_sentiments=imdb_data.sentiment[:40000]\n",
    "#test dataset\n",
    "test_reviews=imdb_data.review[40000:]\n",
    "test_sentiments=imdb_data.sentiment[40000:]\n",
    "print(train_reviews.shape,train_sentiments.shape)\n",
    "print(test_reviews.shape,test_sentiments.shape)"
   ]
  },
  {
   "cell_type": "code",
   "execution_count": null,
   "metadata": {
    "colab": {
     "base_uri": "https://localhost:8080/",
     "height": 424
    },
    "execution": {
     "iopub.execute_input": "2022-05-06T16:00:06.401269Z",
     "iopub.status.busy": "2022-05-06T16:00:06.401206Z",
     "iopub.status.idle": "2022-05-06T16:00:07.023553Z",
     "shell.execute_reply": "2022-05-06T16:00:07.022794Z",
     "shell.execute_reply.started": "2022-05-06T16:00:06.401260Z"
    },
    "id": "fWI4058cGjlU",
    "outputId": "33cfefb7-2f66-4c21-e709-bd85e59694be"
   },
   "outputs": [
    {
     "data": {
      "text/html": [
       "\n",
       "  <div id=\"df-5e14aeda-5003-4afb-954c-f2a6ce587728\">\n",
       "    <div class=\"colab-df-container\">\n",
       "      <div>\n",
       "<style scoped>\n",
       "    .dataframe tbody tr th:only-of-type {\n",
       "        vertical-align: middle;\n",
       "    }\n",
       "\n",
       "    .dataframe tbody tr th {\n",
       "        vertical-align: top;\n",
       "    }\n",
       "\n",
       "    .dataframe thead th {\n",
       "        text-align: right;\n",
       "    }\n",
       "</style>\n",
       "<table border=\"1\" class=\"dataframe\">\n",
       "  <thead>\n",
       "    <tr style=\"text-align: right;\">\n",
       "      <th></th>\n",
       "      <th>total_bill</th>\n",
       "      <th>tip</th>\n",
       "      <th>sex</th>\n",
       "      <th>smoker</th>\n",
       "      <th>day</th>\n",
       "      <th>time</th>\n",
       "      <th>size</th>\n",
       "    </tr>\n",
       "  </thead>\n",
       "  <tbody>\n",
       "    <tr>\n",
       "      <th>0</th>\n",
       "      <td>16.99</td>\n",
       "      <td>1.01</td>\n",
       "      <td>Female</td>\n",
       "      <td>No</td>\n",
       "      <td>Sun</td>\n",
       "      <td>Dinner</td>\n",
       "      <td>2</td>\n",
       "    </tr>\n",
       "    <tr>\n",
       "      <th>1</th>\n",
       "      <td>10.34</td>\n",
       "      <td>1.66</td>\n",
       "      <td>Male</td>\n",
       "      <td>No</td>\n",
       "      <td>Sun</td>\n",
       "      <td>Dinner</td>\n",
       "      <td>3</td>\n",
       "    </tr>\n",
       "    <tr>\n",
       "      <th>2</th>\n",
       "      <td>21.01</td>\n",
       "      <td>3.50</td>\n",
       "      <td>Male</td>\n",
       "      <td>No</td>\n",
       "      <td>Sun</td>\n",
       "      <td>Dinner</td>\n",
       "      <td>3</td>\n",
       "    </tr>\n",
       "    <tr>\n",
       "      <th>3</th>\n",
       "      <td>23.68</td>\n",
       "      <td>3.31</td>\n",
       "      <td>Male</td>\n",
       "      <td>No</td>\n",
       "      <td>Sun</td>\n",
       "      <td>Dinner</td>\n",
       "      <td>2</td>\n",
       "    </tr>\n",
       "    <tr>\n",
       "      <th>4</th>\n",
       "      <td>24.59</td>\n",
       "      <td>3.61</td>\n",
       "      <td>Female</td>\n",
       "      <td>No</td>\n",
       "      <td>Sun</td>\n",
       "      <td>Dinner</td>\n",
       "      <td>4</td>\n",
       "    </tr>\n",
       "    <tr>\n",
       "      <th>...</th>\n",
       "      <td>...</td>\n",
       "      <td>...</td>\n",
       "      <td>...</td>\n",
       "      <td>...</td>\n",
       "      <td>...</td>\n",
       "      <td>...</td>\n",
       "      <td>...</td>\n",
       "    </tr>\n",
       "    <tr>\n",
       "      <th>239</th>\n",
       "      <td>29.03</td>\n",
       "      <td>5.92</td>\n",
       "      <td>Male</td>\n",
       "      <td>No</td>\n",
       "      <td>Sat</td>\n",
       "      <td>Dinner</td>\n",
       "      <td>3</td>\n",
       "    </tr>\n",
       "    <tr>\n",
       "      <th>240</th>\n",
       "      <td>27.18</td>\n",
       "      <td>2.00</td>\n",
       "      <td>Female</td>\n",
       "      <td>Yes</td>\n",
       "      <td>Sat</td>\n",
       "      <td>Dinner</td>\n",
       "      <td>2</td>\n",
       "    </tr>\n",
       "    <tr>\n",
       "      <th>241</th>\n",
       "      <td>22.67</td>\n",
       "      <td>2.00</td>\n",
       "      <td>Male</td>\n",
       "      <td>Yes</td>\n",
       "      <td>Sat</td>\n",
       "      <td>Dinner</td>\n",
       "      <td>2</td>\n",
       "    </tr>\n",
       "    <tr>\n",
       "      <th>242</th>\n",
       "      <td>17.82</td>\n",
       "      <td>1.75</td>\n",
       "      <td>Male</td>\n",
       "      <td>No</td>\n",
       "      <td>Sat</td>\n",
       "      <td>Dinner</td>\n",
       "      <td>2</td>\n",
       "    </tr>\n",
       "    <tr>\n",
       "      <th>243</th>\n",
       "      <td>18.78</td>\n",
       "      <td>3.00</td>\n",
       "      <td>Female</td>\n",
       "      <td>No</td>\n",
       "      <td>Thur</td>\n",
       "      <td>Dinner</td>\n",
       "      <td>2</td>\n",
       "    </tr>\n",
       "  </tbody>\n",
       "</table>\n",
       "<p>244 rows × 7 columns</p>\n",
       "</div>\n",
       "      <button class=\"colab-df-convert\" onclick=\"convertToInteractive('df-5e14aeda-5003-4afb-954c-f2a6ce587728')\"\n",
       "              title=\"Convert this dataframe to an interactive table.\"\n",
       "              style=\"display:none;\">\n",
       "        \n",
       "  <svg xmlns=\"http://www.w3.org/2000/svg\" height=\"24px\"viewBox=\"0 0 24 24\"\n",
       "       width=\"24px\">\n",
       "    <path d=\"M0 0h24v24H0V0z\" fill=\"none\"/>\n",
       "    <path d=\"M18.56 5.44l.94 2.06.94-2.06 2.06-.94-2.06-.94-.94-2.06-.94 2.06-2.06.94zm-11 1L8.5 8.5l.94-2.06 2.06-.94-2.06-.94L8.5 2.5l-.94 2.06-2.06.94zm10 10l.94 2.06.94-2.06 2.06-.94-2.06-.94-.94-2.06-.94 2.06-2.06.94z\"/><path d=\"M17.41 7.96l-1.37-1.37c-.4-.4-.92-.59-1.43-.59-.52 0-1.04.2-1.43.59L10.3 9.45l-7.72 7.72c-.78.78-.78 2.05 0 2.83L4 21.41c.39.39.9.59 1.41.59.51 0 1.02-.2 1.41-.59l7.78-7.78 2.81-2.81c.8-.78.8-2.07 0-2.86zM5.41 20L4 18.59l7.72-7.72 1.47 1.35L5.41 20z\"/>\n",
       "  </svg>\n",
       "      </button>\n",
       "      \n",
       "  <style>\n",
       "    .colab-df-container {\n",
       "      display:flex;\n",
       "      flex-wrap:wrap;\n",
       "      gap: 12px;\n",
       "    }\n",
       "\n",
       "    .colab-df-convert {\n",
       "      background-color: #E8F0FE;\n",
       "      border: none;\n",
       "      border-radius: 50%;\n",
       "      cursor: pointer;\n",
       "      display: none;\n",
       "      fill: #1967D2;\n",
       "      height: 32px;\n",
       "      padding: 0 0 0 0;\n",
       "      width: 32px;\n",
       "    }\n",
       "\n",
       "    .colab-df-convert:hover {\n",
       "      background-color: #E2EBFA;\n",
       "      box-shadow: 0px 1px 2px rgba(60, 64, 67, 0.3), 0px 1px 3px 1px rgba(60, 64, 67, 0.15);\n",
       "      fill: #174EA6;\n",
       "    }\n",
       "\n",
       "    [theme=dark] .colab-df-convert {\n",
       "      background-color: #3B4455;\n",
       "      fill: #D2E3FC;\n",
       "    }\n",
       "\n",
       "    [theme=dark] .colab-df-convert:hover {\n",
       "      background-color: #434B5C;\n",
       "      box-shadow: 0px 1px 3px 1px rgba(0, 0, 0, 0.15);\n",
       "      filter: drop-shadow(0px 1px 2px rgba(0, 0, 0, 0.3));\n",
       "      fill: #FFFFFF;\n",
       "    }\n",
       "  </style>\n",
       "\n",
       "      <script>\n",
       "        const buttonEl =\n",
       "          document.querySelector('#df-5e14aeda-5003-4afb-954c-f2a6ce587728 button.colab-df-convert');\n",
       "        buttonEl.style.display =\n",
       "          google.colab.kernel.accessAllowed ? 'block' : 'none';\n",
       "\n",
       "        async function convertToInteractive(key) {\n",
       "          const element = document.querySelector('#df-5e14aeda-5003-4afb-954c-f2a6ce587728');\n",
       "          const dataTable =\n",
       "            await google.colab.kernel.invokeFunction('convertToInteractive',\n",
       "                                                     [key], {});\n",
       "          if (!dataTable) return;\n",
       "\n",
       "          const docLinkHtml = 'Like what you see? Visit the ' +\n",
       "            '<a target=\"_blank\" href=https://colab.research.google.com/notebooks/data_table.ipynb>data table notebook</a>'\n",
       "            + ' to learn more about interactive tables.';\n",
       "          element.innerHTML = '';\n",
       "          dataTable['output_type'] = 'display_data';\n",
       "          await google.colab.output.renderOutput(dataTable, element);\n",
       "          const docLink = document.createElement('div');\n",
       "          docLink.innerHTML = docLinkHtml;\n",
       "          element.appendChild(docLink);\n",
       "        }\n",
       "      </script>\n",
       "    </div>\n",
       "  </div>\n",
       "  "
      ],
      "text/plain": [
       "     total_bill   tip     sex smoker   day    time  size\n",
       "0         16.99  1.01  Female     No   Sun  Dinner     2\n",
       "1         10.34  1.66    Male     No   Sun  Dinner     3\n",
       "2         21.01  3.50    Male     No   Sun  Dinner     3\n",
       "3         23.68  3.31    Male     No   Sun  Dinner     2\n",
       "4         24.59  3.61  Female     No   Sun  Dinner     4\n",
       "..          ...   ...     ...    ...   ...     ...   ...\n",
       "239       29.03  5.92    Male     No   Sat  Dinner     3\n",
       "240       27.18  2.00  Female    Yes   Sat  Dinner     2\n",
       "241       22.67  2.00    Male    Yes   Sat  Dinner     2\n",
       "242       17.82  1.75    Male     No   Sat  Dinner     2\n",
       "243       18.78  3.00  Female     No  Thur  Dinner     2\n",
       "\n",
       "[244 rows x 7 columns]"
      ]
     },
     "execution_count": 7,
     "metadata": {},
     "output_type": "execute_result"
    }
   ],
   "source": [
    "import seaborn as sns\n",
    "sns.load_dataset('tips')"
   ]
  },
  {
   "cell_type": "markdown",
   "metadata": {
    "_uuid": "90da29c3b79f46f41d7391a2a116065b616d0fac",
    "id": "McvAlfnWGjlU"
   },
   "source": [
    "**Text normalization**load_dataset"
   ]
  },
  {
   "cell_type": "code",
   "execution_count": null,
   "metadata": {
    "ExecuteTime": {
     "end_time": "2022-04-08T11:25:01.712779Z",
     "start_time": "2022-04-08T11:25:01.680473Z"
    },
    "_uuid": "f000c43d91f68f6668539f089c6a54c5ce3bd819",
    "colab": {
     "base_uri": "https://localhost:8080/"
    },
    "execution": {
     "iopub.execute_input": "2022-05-06T15:59:31.621124Z",
     "iopub.status.busy": "2022-05-06T15:59:31.620673Z",
     "iopub.status.idle": "2022-05-06T15:59:32.670793Z",
     "shell.execute_reply": "2022-05-06T15:59:32.670059Z",
     "shell.execute_reply.started": "2022-05-06T15:59:31.621089Z"
    },
    "id": "-2DnqkGvGjlU",
    "outputId": "65961156-84a3-4736-9e90-b95520f23931",
    "tags": []
   },
   "outputs": [
    {
     "name": "stdout",
     "output_type": "stream",
     "text": [
      "Requirement already satisfied: nltk in /usr/local/lib/python3.7/dist-packages (3.2.5)\n",
      "Requirement already satisfied: six in /usr/local/lib/python3.7/dist-packages (from nltk) (1.15.0)\n",
      "[nltk_data] Downloading package stopwords to /root/nltk_data...\n",
      "[nltk_data]   Unzipping corpora/stopwords.zip.\n"
     ]
    }
   ],
   "source": [
    "!pip install nltk\n",
    "nltk.download('stopwords')\n",
    "#Tokenization of text\n",
    "tokenizer=ToktokTokenizer()\n",
    "#Setting English stopwords\n",
    "stopword_list=nltk.corpus.stopwords.words('english')"
   ]
  },
  {
   "cell_type": "markdown",
   "metadata": {
    "_uuid": "328b6e5977da3e055ad4b2e11a31e5e12ccf3b16",
    "id": "SfQ2kLbkGjlU"
   },
   "source": [
    "**Removing html strips and noise text**"
   ]
  },
  {
   "cell_type": "code",
   "execution_count": null,
   "metadata": {
    "ExecuteTime": {
     "end_time": "2022-04-08T11:25:22.896244Z",
     "start_time": "2022-04-08T11:25:01.713527Z"
    },
    "_uuid": "6f6fcafbdadcdcb0c164e37d71fb9d1623f74d0a",
    "id": "RjOUl5TFGjlU"
   },
   "outputs": [],
   "source": [
    "#Removing the html strips\n",
    "def strip_html(text):\n",
    "    soup = BeautifulSoup(text, \"html.parser\")\n",
    "    return soup.get_text()\n",
    "\n",
    "#Removing the square brackets\n",
    "def remove_between_square_brackets(text):\n",
    "    return re.sub('\\[[^]]*\\]', '', text)\n",
    "\n",
    "#Removing the noisy text\n",
    "def denoise_text(text):\n",
    "    text = strip_html(text)\n",
    "    text = remove_between_square_brackets(text)\n",
    "    return text\n",
    "#Apply function on review column\n",
    "imdb_data['review']=imdb_data['review'].apply(denoise_text)"
   ]
  },
  {
   "cell_type": "markdown",
   "metadata": {
    "_uuid": "88117b74761d1047924d6d70f76642faa0e706ac",
    "id": "vad8gFUEGjlV"
   },
   "source": [
    "**Removing special characters**"
   ]
  },
  {
   "cell_type": "code",
   "execution_count": null,
   "metadata": {
    "ExecuteTime": {
     "end_time": "2022-04-08T11:25:26.008224Z",
     "start_time": "2022-04-08T11:25:22.896244Z"
    },
    "_uuid": "219da72b025121fd98081df50ae0fcaace10cc9d",
    "id": "azs3kFLyGjlV"
   },
   "outputs": [],
   "source": [
    "#Define function for removing special characters\n",
    "def remove_special_characters(text, remove_digits=True):\n",
    "    pattern=r'[^a-zA-z0-9\\s]'\n",
    "    text=re.sub(pattern,'',text)\n",
    "    return text\n",
    "#Apply function on review column\n",
    "imdb_data['review']=imdb_data['review'].apply(remove_special_characters)"
   ]
  },
  {
   "cell_type": "markdown",
   "metadata": {
    "_uuid": "3b66eeabd5b7b8c251f8b8ddf331140a64bcd514",
    "id": "OysWrD_WGjlV"
   },
   "source": [
    "**Text stemming\n",
    "**"
   ]
  },
  {
   "cell_type": "code",
   "execution_count": null,
   "metadata": {
    "ExecuteTime": {
     "end_time": "2022-04-08T11:35:06.427359Z",
     "start_time": "2022-04-08T11:25:26.008224Z"
    },
    "_uuid": "2295f2946e0ab74c220ad538d0e7adc04d23f697",
    "id": "ZcJD7M1pGjlV"
   },
   "outputs": [],
   "source": [
    "#Stemming the text\n",
    "def simple_stemmer(text):\n",
    "    ps=nltk.porter.PorterStemmer()\n",
    "    text= ' '.join([ps.stem(word) for word in text.split()])\n",
    "    return text\n",
    "#Apply function on review column\n",
    "imdb_data['review']=imdb_data['review'].apply(simple_stemmer)"
   ]
  },
  {
   "cell_type": "markdown",
   "metadata": {
    "_uuid": "e83107e4a281d84d7ae42b4e2c8d81b7ece438e4",
    "id": "RSUF--NyGjlV"
   },
   "source": [
    "**Removing stopwords**"
   ]
  },
  {
   "cell_type": "code",
   "execution_count": null,
   "metadata": {
    "ExecuteTime": {
     "end_time": "2022-04-08T11:36:38.775466Z",
     "start_time": "2022-04-08T11:35:06.427359Z"
    },
    "_uuid": "5dbff82b4d2d188d8777b273a75d8ac714d38885",
    "colab": {
     "base_uri": "https://localhost:8080/"
    },
    "id": "HpphJrI3GjlW",
    "outputId": "0d81f777-75b7-4261-af6b-d38707adb64b"
   },
   "outputs": [
    {
     "name": "stdout",
     "output_type": "stream",
     "text": [
      "{'hadn', 'should', 'd', \"doesn't\", 'couldn', 'you', 'other', 'shan', 'isn', 'for', 'be', 'does', 'having', 'once', 'these', 'an', \"should've\", \"mightn't\", 'off', 'was', 'so', 'me', 'i', 'doing', \"you'll\", 'yours', 'her', 'have', 'what', 'their', 'no', 'been', 'he', 'about', 'to', 'more', 'them', 'any', 'y', 'didn', 'doesn', \"aren't\", 'up', \"that'll\", 'by', 'but', 'him', 'out', 'both', 'too', 'ourselves', 'don', 'ma', \"hadn't\", 'as', 'do', \"couldn't\", 'such', 'few', 'here', 'very', 'yourself', \"she's\", 'am', 'then', \"needn't\", 'were', 'she', 'most', 'same', 'm', 'they', 'where', 'whom', 'below', \"wouldn't\", \"you're\", 'has', 'over', 're', \"you've\", 'wouldn', 'before', 'through', 'those', 'own', 'or', 'itself', 'll', \"you'd\", \"shan't\", 'mightn', 'down', 'ours', 'above', 'when', 'while', \"didn't\", 'a', 'between', 'than', 'aren', 'wasn', 'are', 'in', 'themselves', 'we', 'from', 'o', 'during', 'is', 'hasn', \"don't\", 'only', 'until', 'weren', \"haven't\", 'yourselves', 's', 'further', 'can', 'with', 'now', 'my', 'against', 'all', 'mustn', 'myself', 'on', 'theirs', 'himself', 'will', \"shouldn't\", 'his', 'it', 'into', 've', 'that', 'which', 'who', 'hers', 'why', \"isn't\", 'its', 'at', 'herself', 'again', \"won't\", 'under', 't', 'after', 'each', 'nor', 'because', \"it's\", 'won', 'if', 'how', 'some', 'not', 'and', 'haven', 'of', 'being', \"weren't\", 'our', 'this', 'needn', 'just', 'there', \"wasn't\", 'did', \"mustn't\", 'ain', 'had', \"hasn't\", 'shouldn', 'your', 'the'}\n"
     ]
    }
   ],
   "source": [
    "#set stopwords to english\n",
    "stop=set(stopwords.words('english'))\n",
    "print(stop)\n",
    "\n",
    "#removing the stopwords\n",
    "def remove_stopwords(text, is_lower_case=False):\n",
    "    tokens = tokenizer.tokenize(text)\n",
    "    tokens = [token.strip() for token in tokens]\n",
    "    if is_lower_case:\n",
    "        filtered_tokens = [token for token in tokens if token not in stopword_list]\n",
    "    else:\n",
    "        filtered_tokens = [token for token in tokens if token.lower() not in stopword_list]\n",
    "    filtered_text = ' '.join(filtered_tokens)    \n",
    "    return filtered_text\n",
    "#Apply function on review column\n",
    "imdb_data['review']=imdb_data['review'].apply(remove_stopwords)"
   ]
  },
  {
   "cell_type": "markdown",
   "metadata": {
    "_uuid": "b35e7499291173119ed42287deac6f0cd96516e1",
    "id": "qTUzKOC8GjlW"
   },
   "source": [
    "**Normalized train reviews**"
   ]
  },
  {
   "cell_type": "code",
   "execution_count": null,
   "metadata": {
    "ExecuteTime": {
     "end_time": "2022-04-08T11:36:38.791388Z",
     "start_time": "2022-04-08T11:36:38.780196Z"
    },
    "_kg_hide-output": true,
    "_uuid": "b20c242bd091929ca896ea2c6e936ca00efe6ecf",
    "colab": {
     "base_uri": "https://localhost:8080/",
     "height": 122
    },
    "id": "C5sK-mB4GjlW",
    "outputId": "39517cd9-02ba-44c8-e1e1-b9ef5088a1b8"
   },
   "outputs": [
    {
     "data": {
      "application/vnd.google.colaboratory.intrinsic+json": {
       "type": "string"
      },
      "text/plain": [
       "'one review ha mention watch 1 Oz episod youll hook right thi exactli happen meth first thing struck Oz wa brutal unflinch scene violenc set right word GO trust thi show faint heart timid thi show pull punch regard drug sex violenc hardcor classic use wordit call OZ nicknam given oswald maximum secur state penitentari focus mainli emerald citi experiment section prison cell glass front face inward privaci high agenda Em citi home manyaryan muslim gangsta latino christian italian irish moreso scuffl death stare dodgi deal shadi agreement never far awayi would say main appeal show due fact goe show wouldnt dare forget pretti pictur paint mainstream audienc forget charm forget romanceoz doesnt mess around first episod ever saw struck nasti wa surreal couldnt say wa readi watch develop tast Oz got accustom high level graphic violenc violenc injustic crook guard wholl sold nickel inmat wholl kill order get away well manner middl class inmat turn prison bitch due lack street skill prison experi watch Oz may becom comfort uncomfort viewingthat get touch darker side'"
      ]
     },
     "execution_count": 13,
     "metadata": {},
     "output_type": "execute_result"
    }
   ],
   "source": [
    "#normalized train reviews\n",
    "norm_train_reviews=imdb_data.review[:40000]\n",
    "norm_train_reviews[0]\n",
    "#convert dataframe to string\n",
    "#norm_train_string=norm_train_reviews.to_string()\n",
    "#Spelling correction using Textblob\n",
    "#norm_train_spelling=TextBlob(norm_train_string)\n",
    "#norm_train_spelling.correct()\n",
    "#Tokenization using Textblob\n",
    "#norm_train_words=norm_train_spelling.words\n",
    "#norm_train_words"
   ]
  },
  {
   "cell_type": "markdown",
   "metadata": {
    "_uuid": "d69462bb209a66cff86376dc8481d0c0140d894d",
    "id": "WfH_aO2SGjlW"
   },
   "source": [
    "**Normalized test reviews**"
   ]
  },
  {
   "cell_type": "code",
   "execution_count": null,
   "metadata": {
    "ExecuteTime": {
     "end_time": "2022-04-08T11:36:38.823785Z",
     "start_time": "2022-04-08T11:36:38.797663Z"
    },
    "_kg_hide-output": true,
    "_uuid": "c5d0d38bd9976150367e9d75f3b933774c96a1ab",
    "colab": {
     "base_uri": "https://localhost:8080/",
     "height": 122
    },
    "id": "2CpC7h3-GjlW",
    "outputId": "c9fd468c-458b-424e-f1de-521cf0e3ec4c"
   },
   "outputs": [
    {
     "data": {
      "application/vnd.google.colaboratory.intrinsic+json": {
       "type": "string"
      },
      "text/plain": [
       "'read review watch thi piec cinemat garbag took least 2 page find somebodi els didnt think thi appallingli unfunni montag wasnt acm humour 70 inde ani era thi isnt least funni set sketch comedi ive ever seen itll till come along half skit alreadi done infinit better act monti python woodi allen wa say nice piec anim last 90 second highlight thi film would still get close sum mindless drivelridden thi wast 75 minut semin comedi onli world semin realli doe mean semen scatolog humour onli world scat actual fece precursor joke onli mean thi handbook comedi tit bum odd beaver niceif pubesc boy least one hand free havent found playboy exist give break becaus wa earli 70 way sketch comedi go back least ten year prior onli way could even forgiv thi film even made wa gunpoint retro hardli sketch clown subtli pervert children may cut edg circl could actual funni come realli quit sad kept go throughout entir 75 minut sheer belief may save genuin funni skit end gave film 1 becaus wa lower scoreand onli recommend insomniac coma patientsor perhap peopl suffer lockjawtheir jaw would final drop open disbelief'"
      ]
     },
     "execution_count": 14,
     "metadata": {},
     "output_type": "execute_result"
    }
   ],
   "source": [
    "#Normalized test reviews\n",
    "norm_test_reviews=imdb_data.review[40000:]\n",
    "norm_test_reviews[45005]\n",
    "##convert dataframe to string\n",
    "#norm_test_string=norm_test_reviews.to_string()\n",
    "#spelling correction using Textblob\n",
    "#norm_test_spelling=TextBlob(norm_test_string)\n",
    "#print(norm_test_spelling.correct())\n",
    "#Tokenization using Textblob\n",
    "#norm_test_words=norm_test_spelling.words\n",
    "#norm_test_words"
   ]
  },
  {
   "cell_type": "markdown",
   "metadata": {
    "_uuid": "1c2a872ffcb6b8076fdbbba641af12081b6022ef",
    "id": "kIcMd17_GjlW"
   },
   "source": [
    "**Bags of words model **\n",
    "\n",
    "It is used to convert text documents to numerical vectors or bag of words."
   ]
  },
  {
   "cell_type": "code",
   "execution_count": null,
   "metadata": {
    "ExecuteTime": {
     "end_time": "2022-04-08T11:38:13.563423Z",
     "start_time": "2022-04-08T11:36:38.823785Z"
    },
    "_uuid": "35cf9dcefb40b2dc520c5b0d559695324c46cc04",
    "colab": {
     "base_uri": "https://localhost:8080/"
    },
    "id": "LN9LRaB9GjlW",
    "outputId": "62e5d1d7-b637-441f-ce28-11fece19630c"
   },
   "outputs": [
    {
     "name": "stdout",
     "output_type": "stream",
     "text": [
      "BOW_cv_train: (40000, 6209089)\n",
      "BOW_cv_test: (10000, 6209089)\n"
     ]
    }
   ],
   "source": [
    "#Count vectorizer for bag of words\n",
    "cv=CountVectorizer(min_df=0,max_df=1,binary=False,ngram_range=(1,3))\n",
    "#transformed train reviews\n",
    "cv_train_reviews=cv.fit_transform(norm_train_reviews)\n",
    "#transformed test reviews\n",
    "cv_test_reviews=cv.transform(norm_test_reviews)\n",
    "\n",
    "print('BOW_cv_train:',cv_train_reviews.shape)\n",
    "print('BOW_cv_test:',cv_test_reviews.shape)\n",
    "#vocab=cv.get_feature_names()-toget feature names"
   ]
  },
  {
   "cell_type": "markdown",
   "metadata": {
    "_uuid": "52371868f05ff9cf157280c5acf0f5bc71ee176d",
    "id": "Ux_mxD0dGjlX"
   },
   "source": [
    "**Term Frequency-Inverse Document Frequency model (TFIDF)**\n",
    "\n",
    "It is used to convert text documents to  matrix of  tfidf features."
   ]
  },
  {
   "cell_type": "code",
   "execution_count": null,
   "metadata": {
    "ExecuteTime": {
     "end_time": "2022-04-08T11:39:53.569320Z",
     "start_time": "2022-04-08T11:38:13.563423Z"
    },
    "_uuid": "afe6de957339921e05a6faeaf731f2272fd31946",
    "colab": {
     "base_uri": "https://localhost:8080/"
    },
    "id": "IoLHkrvFGjlX",
    "outputId": "aec92262-8bd7-4197-c756-1b441fa930f7"
   },
   "outputs": [
    {
     "name": "stdout",
     "output_type": "stream",
     "text": [
      "Tfidf_train: (40000, 6209089)\n",
      "Tfidf_test: (10000, 6209089)\n"
     ]
    }
   ],
   "source": [
    "#Tfidf vectorizer\n",
    "tv=TfidfVectorizer(min_df=0,max_df=1,use_idf=True,ngram_range=(1,3))\n",
    "#transformed train reviews\n",
    "tv_train_reviews=tv.fit_transform(norm_train_reviews)\n",
    "#transformed test reviews\n",
    "tv_test_reviews=tv.transform(norm_test_reviews)\n",
    "print('Tfidf_train:',tv_train_reviews.shape)\n",
    "print('Tfidf_test:',tv_test_reviews.shape)"
   ]
  },
  {
   "cell_type": "markdown",
   "metadata": {
    "_uuid": "803e92b25faa738b10928a91de72d177d8dddf85",
    "id": "T0OXNl3_GjlX"
   },
   "source": [
    "**Labeling the sentiment text**"
   ]
  },
  {
   "cell_type": "code",
   "execution_count": null,
   "metadata": {
    "ExecuteTime": {
     "end_time": "2022-04-08T11:39:53.741869Z",
     "start_time": "2022-04-08T11:39:53.572966Z"
    },
    "_uuid": "60f5d496ce4109d1cdbf08f4284d4d26efd93922",
    "colab": {
     "base_uri": "https://localhost:8080/"
    },
    "id": "_L2OdToMGjlX",
    "outputId": "c05010eb-717a-4c96-cc4c-295019b73a69"
   },
   "outputs": [
    {
     "name": "stdout",
     "output_type": "stream",
     "text": [
      "(50000, 1)\n"
     ]
    }
   ],
   "source": [
    "#labeling the sentient data\n",
    "lb=LabelBinarizer()\n",
    "#transformed sentiment data\n",
    "sentiment_data=lb.fit_transform(imdb_data['sentiment'])\n",
    "print(sentiment_data.shape)"
   ]
  },
  {
   "cell_type": "markdown",
   "metadata": {
    "_uuid": "21a80c94fb42e14391c627710c5d796c40aa7dde",
    "id": "9ts_P_YDGjlX"
   },
   "source": [
    "**Split the sentiment tdata**"
   ]
  },
  {
   "cell_type": "code",
   "execution_count": null,
   "metadata": {
    "ExecuteTime": {
     "end_time": "2022-04-08T11:39:53.757422Z",
     "start_time": "2022-04-08T11:39:53.742380Z"
    },
    "_kg_hide-output": true,
    "_uuid": "ca1e4cc917265ac98a72c37cffe57f27e9897408",
    "colab": {
     "base_uri": "https://localhost:8080/"
    },
    "id": "SLICWdSUGjlX",
    "outputId": "10b44a54-300c-40f5-8aaa-262a06637cf7"
   },
   "outputs": [
    {
     "name": "stdout",
     "output_type": "stream",
     "text": [
      "[[1]\n",
      " [1]\n",
      " [1]\n",
      " ...\n",
      " [1]\n",
      " [0]\n",
      " [0]]\n",
      "[[0]\n",
      " [0]\n",
      " [0]\n",
      " ...\n",
      " [0]\n",
      " [0]\n",
      " [0]]\n"
     ]
    }
   ],
   "source": [
    "#Spliting the sentiment data\n",
    "train_sentiments=sentiment_data[:40000]\n",
    "test_sentiments=sentiment_data[40000:]\n",
    "print(train_sentiments)\n",
    "print(test_sentiments)"
   ]
  },
  {
   "cell_type": "markdown",
   "metadata": {
    "id": "3qnT7LcXGjlX"
   },
   "source": [
    "**Modelling the dataset**"
   ]
  },
  {
   "cell_type": "markdown",
   "metadata": {
    "_uuid": "d5e45fdc9d062a5b9b9dd665ffe732776e196953",
    "id": "0NPGVknYGjlX"
   },
   "source": [
    "Let us build logistic regression model for both bag of words and tfidf features"
   ]
  },
  {
   "cell_type": "markdown",
   "metadata": {
    "_uuid": "8fde9753386e3593dc27c4e88e02bdc38462a018",
    "id": "q6YbRsa1GjlY"
   },
   "source": [
    "**Stochastic gradient descent or Linear support vector machines for bag of words and tfidf features**"
   ]
  },
  {
   "cell_type": "code",
   "execution_count": null,
   "metadata": {
    "ExecuteTime": {
     "end_time": "2022-04-08T11:42:20.853172Z",
     "start_time": "2022-04-08T11:42:16.273130Z"
    },
    "_uuid": "2211a9e97682195a0372b33e4da7267aad8548db",
    "colab": {
     "base_uri": "https://localhost:8080/"
    },
    "id": "yAdZBR15GjlY",
    "outputId": "e22fb461-15da-49c6-faa4-bf75f866af85"
   },
   "outputs": [
    {
     "name": "stdout",
     "output_type": "stream",
     "text": [
      "SGDClassifier(max_iter=500, random_state=42)\n",
      "SGDClassifier(max_iter=500, random_state=42)\n"
     ]
    }
   ],
   "source": [
    "#training the linear svm\n",
    "svm=SGDClassifier(loss='hinge',max_iter=500,random_state=42)\n",
    "#fitting the svm for bag of words\n",
    "svm_bow=svm.fit(cv_train_reviews,train_sentiments)\n",
    "print(svm_bow)\n",
    "#fitting the svm for tfidf features\n",
    "svm_tfidf=svm.fit(tv_train_reviews,train_sentiments)\n",
    "print(svm_tfidf)"
   ]
  },
  {
   "cell_type": "markdown",
   "metadata": {
    "_uuid": "e9a7a973591c1d3cabaa1a47c57fa029d3752bab",
    "id": "Lw5ZTmoxGjlY"
   },
   "source": [
    "**Model performance on test data**"
   ]
  },
  {
   "cell_type": "code",
   "execution_count": null,
   "metadata": {
    "ExecuteTime": {
     "end_time": "2022-04-08T11:42:20.877821Z",
     "start_time": "2022-04-08T11:42:20.855612Z"
    },
    "_uuid": "1a5ab738e04f0f9082c8d6ade6c2148cc398f8f3",
    "colab": {
     "base_uri": "https://localhost:8080/"
    },
    "id": "ZJi3ax9rGjlY",
    "outputId": "6e52ed45-9cda-4415-9554-9a06c3a3ec36"
   },
   "outputs": [
    {
     "name": "stdout",
     "output_type": "stream",
     "text": [
      "[1 1 0 ... 1 1 1]\n",
      "[1 1 1 ... 1 1 1]\n"
     ]
    }
   ],
   "source": [
    "#Predicting the model for bag of words\n",
    "svm_bow_predict=svm.predict(cv_test_reviews)\n",
    "print(svm_bow_predict)\n",
    "#Predicting the model for tfidf features\n",
    "svm_tfidf_predict=svm.predict(tv_test_reviews)\n",
    "print(svm_tfidf_predict)"
   ]
  },
  {
   "cell_type": "markdown",
   "metadata": {
    "id": "IzzyxVEZGjlY"
   },
   "source": [
    "**Accuracy of the model**"
   ]
  },
  {
   "cell_type": "code",
   "execution_count": null,
   "metadata": {
    "ExecuteTime": {
     "end_time": "2022-04-08T11:42:20.894318Z",
     "start_time": "2022-04-08T11:42:20.881828Z"
    },
    "colab": {
     "base_uri": "https://localhost:8080/"
    },
    "id": "bmX-q4zRGjlY",
    "outputId": "e5f9bd2a-9c1f-4f55-b0f9-23566cf9269e"
   },
   "outputs": [
    {
     "name": "stdout",
     "output_type": "stream",
     "text": [
      "svm_bow_score : 0.5829\n",
      "svm_tfidf_score : 0.5112\n"
     ]
    }
   ],
   "source": [
    "#Accuracy score for bag of words\n",
    "svm_bow_score=accuracy_score(test_sentiments,svm_bow_predict)\n",
    "print(\"svm_bow_score :\",svm_bow_score)\n",
    "#Accuracy score for tfidf features\n",
    "svm_tfidf_score=accuracy_score(test_sentiments,svm_tfidf_predict)\n",
    "print(\"svm_tfidf_score :\",svm_tfidf_score)"
   ]
  },
  {
   "cell_type": "markdown",
   "metadata": {
    "_uuid": "b1bd245f50902ad87ca28e48cbce64ec6a16ec5a",
    "id": "zLp8hs1_GjlZ"
   },
   "source": [
    "**Print the classification report**"
   ]
  },
  {
   "cell_type": "code",
   "execution_count": null,
   "metadata": {
    "ExecuteTime": {
     "end_time": "2022-04-08T11:42:20.984303Z",
     "start_time": "2022-04-08T11:42:20.899318Z"
    },
    "_uuid": "d112bc5b4944330b567e19a7e04544a9a459f238",
    "colab": {
     "base_uri": "https://localhost:8080/"
    },
    "id": "CmJDi062GjlZ",
    "outputId": "5f41473d-4fbd-404d-a829-3500195b6fc1"
   },
   "outputs": [
    {
     "name": "stdout",
     "output_type": "stream",
     "text": [
      "              precision    recall  f1-score   support\n",
      "\n",
      "    Positive       0.94      0.18      0.30      4993\n",
      "    Negative       0.55      0.99      0.70      5007\n",
      "\n",
      "    accuracy                           0.58     10000\n",
      "   macro avg       0.74      0.58      0.50     10000\n",
      "weighted avg       0.74      0.58      0.50     10000\n",
      "\n",
      "              precision    recall  f1-score   support\n",
      "\n",
      "    Positive       1.00      0.02      0.04      4993\n",
      "    Negative       0.51      1.00      0.67      5007\n",
      "\n",
      "    accuracy                           0.51     10000\n",
      "   macro avg       0.75      0.51      0.36     10000\n",
      "weighted avg       0.75      0.51      0.36     10000\n",
      "\n"
     ]
    }
   ],
   "source": [
    "#Classification report for bag of words \n",
    "svm_bow_report=classification_report(test_sentiments,svm_bow_predict,target_names=['Positive','Negative'])\n",
    "print(svm_bow_report)\n",
    "#Classification report for tfidf features\n",
    "svm_tfidf_report=classification_report(test_sentiments,svm_tfidf_predict,target_names=['Positive','Negative'])\n",
    "print(svm_tfidf_report)"
   ]
  },
  {
   "cell_type": "markdown",
   "metadata": {
    "_uuid": "705fd8ae8bb5e6925852fffc906b6ffd769dbac0",
    "id": "BN6gkIaXGjlZ"
   },
   "source": [
    "**Plot the confusion matrix**"
   ]
  },
  {
   "cell_type": "code",
   "execution_count": null,
   "metadata": {
    "ExecuteTime": {
     "end_time": "2022-04-08T11:42:21.042265Z",
     "start_time": "2022-04-08T11:42:20.987973Z"
    },
    "_uuid": "49cde912705acbaef90d7a269cd27ea8a2815f03",
    "colab": {
     "base_uri": "https://localhost:8080/"
    },
    "id": "fk3GGXL0GjlZ",
    "outputId": "49d4e8ed-ed6a-4ef4-dd59-2911dd796834"
   },
   "outputs": [
    {
     "name": "stdout",
     "output_type": "stream",
     "text": [
      "[[4948   59]\n",
      " [4112  881]]\n",
      "[[5007    0]\n",
      " [4888  105]]\n"
     ]
    }
   ],
   "source": [
    "#confusion matrix for bag of words\n",
    "cm_bow=confusion_matrix(test_sentiments,svm_bow_predict,labels=[1,0])\n",
    "print(cm_bow)\n",
    "#confusion matrix for tfidf features\n",
    "cm_tfidf=confusion_matrix(test_sentiments,svm_tfidf_predict,labels=[1,0])\n",
    "print(cm_tfidf)"
   ]
  },
  {
   "cell_type": "code",
   "execution_count": null,
   "metadata": {
    "colab": {
     "base_uri": "https://localhost:8080/"
    },
    "id": "eEjM0FXvPyrL",
    "outputId": "1c0a43d9-f894-488d-e952-a2589c775f20"
   },
   "outputs": [
    {
     "name": "stdout",
     "output_type": "stream",
     "text": [
      "Fitting 5 folds for each of 15 candidates, totalling 75 fits\n",
      "[CV 1/5; 1/15] START loss=hinge, max_iter=500...................................\n",
      "[CV 1/5; 1/15] END ....loss=hinge, max_iter=500;, score=0.500 total time=   1.4s\n",
      "[CV 2/5; 1/15] START loss=hinge, max_iter=500...................................\n",
      "[CV 2/5; 1/15] END ....loss=hinge, max_iter=500;, score=0.500 total time=   1.3s\n",
      "[CV 3/5; 1/15] START loss=hinge, max_iter=500...................................\n",
      "[CV 3/5; 1/15] END ....loss=hinge, max_iter=500;, score=0.500 total time=   1.2s\n",
      "[CV 4/5; 1/15] START loss=hinge, max_iter=500...................................\n",
      "[CV 4/5; 1/15] END ....loss=hinge, max_iter=500;, score=0.500 total time=   1.3s\n",
      "[CV 5/5; 1/15] START loss=hinge, max_iter=500...................................\n",
      "[CV 5/5; 1/15] END ....loss=hinge, max_iter=500;, score=0.500 total time=   1.6s\n",
      "[CV 1/5; 2/15] START loss=hinge, max_iter=1000..................................\n",
      "[CV 1/5; 2/15] END ...loss=hinge, max_iter=1000;, score=0.500 total time=   0.8s\n",
      "[CV 2/5; 2/15] START loss=hinge, max_iter=1000..................................\n",
      "[CV 2/5; 2/15] END ...loss=hinge, max_iter=1000;, score=0.500 total time=   0.8s\n",
      "[CV 3/5; 2/15] START loss=hinge, max_iter=1000..................................\n",
      "[CV 3/5; 2/15] END ...loss=hinge, max_iter=1000;, score=0.500 total time=   0.8s\n",
      "[CV 4/5; 2/15] START loss=hinge, max_iter=1000..................................\n",
      "[CV 4/5; 2/15] END ...loss=hinge, max_iter=1000;, score=0.500 total time=   0.8s\n",
      "[CV 5/5; 2/15] START loss=hinge, max_iter=1000..................................\n",
      "[CV 5/5; 2/15] END ...loss=hinge, max_iter=1000;, score=0.500 total time=   0.8s\n",
      "[CV 1/5; 3/15] START loss=hinge, max_iter=1500..................................\n",
      "[CV 1/5; 3/15] END ...loss=hinge, max_iter=1500;, score=0.500 total time=   0.8s\n",
      "[CV 2/5; 3/15] START loss=hinge, max_iter=1500..................................\n",
      "[CV 2/5; 3/15] END ...loss=hinge, max_iter=1500;, score=0.500 total time=   0.8s\n",
      "[CV 3/5; 3/15] START loss=hinge, max_iter=1500..................................\n",
      "[CV 3/5; 3/15] END ...loss=hinge, max_iter=1500;, score=0.500 total time=   0.8s\n",
      "[CV 4/5; 3/15] START loss=hinge, max_iter=1500..................................\n",
      "[CV 4/5; 3/15] END ...loss=hinge, max_iter=1500;, score=0.500 total time=   0.8s\n",
      "[CV 5/5; 3/15] START loss=hinge, max_iter=1500..................................\n",
      "[CV 5/5; 3/15] END ...loss=hinge, max_iter=1500;, score=0.500 total time=   0.8s\n",
      "[CV 1/5; 4/15] START loss=log, max_iter=500.....................................\n",
      "[CV 1/5; 4/15] END ......loss=log, max_iter=500;, score=0.500 total time=   0.9s\n",
      "[CV 2/5; 4/15] START loss=log, max_iter=500.....................................\n",
      "[CV 2/5; 4/15] END ......loss=log, max_iter=500;, score=0.500 total time=   0.8s\n",
      "[CV 3/5; 4/15] START loss=log, max_iter=500.....................................\n",
      "[CV 3/5; 4/15] END ......loss=log, max_iter=500;, score=0.500 total time=   0.9s\n",
      "[CV 4/5; 4/15] START loss=log, max_iter=500.....................................\n",
      "[CV 4/5; 4/15] END ......loss=log, max_iter=500;, score=0.500 total time=   0.9s\n",
      "[CV 5/5; 4/15] START loss=log, max_iter=500.....................................\n",
      "[CV 5/5; 4/15] END ......loss=log, max_iter=500;, score=0.500 total time=   0.9s\n",
      "[CV 1/5; 5/15] START loss=log, max_iter=1000....................................\n",
      "[CV 1/5; 5/15] END .....loss=log, max_iter=1000;, score=0.500 total time=   0.8s\n",
      "[CV 2/5; 5/15] START loss=log, max_iter=1000....................................\n",
      "[CV 2/5; 5/15] END .....loss=log, max_iter=1000;, score=0.500 total time=   0.8s\n",
      "[CV 3/5; 5/15] START loss=log, max_iter=1000....................................\n",
      "[CV 3/5; 5/15] END .....loss=log, max_iter=1000;, score=0.500 total time=   0.9s\n",
      "[CV 4/5; 5/15] START loss=log, max_iter=1000....................................\n",
      "[CV 4/5; 5/15] END .....loss=log, max_iter=1000;, score=0.500 total time=   0.9s\n",
      "[CV 5/5; 5/15] START loss=log, max_iter=1000....................................\n",
      "[CV 5/5; 5/15] END .....loss=log, max_iter=1000;, score=0.500 total time=   0.9s\n",
      "[CV 1/5; 6/15] START loss=log, max_iter=1500....................................\n",
      "[CV 1/5; 6/15] END .....loss=log, max_iter=1500;, score=0.500 total time=   0.9s\n",
      "[CV 2/5; 6/15] START loss=log, max_iter=1500....................................\n",
      "[CV 2/5; 6/15] END .....loss=log, max_iter=1500;, score=0.500 total time=   0.9s\n",
      "[CV 3/5; 6/15] START loss=log, max_iter=1500....................................\n",
      "[CV 3/5; 6/15] END .....loss=log, max_iter=1500;, score=0.500 total time=   0.9s\n",
      "[CV 4/5; 6/15] START loss=log, max_iter=1500....................................\n",
      "[CV 4/5; 6/15] END .....loss=log, max_iter=1500;, score=0.500 total time=   0.9s\n",
      "[CV 5/5; 6/15] START loss=log, max_iter=1500....................................\n",
      "[CV 5/5; 6/15] END .....loss=log, max_iter=1500;, score=0.500 total time=   0.9s\n",
      "[CV 1/5; 7/15] START loss=modified_huber, max_iter=500..........................\n",
      "[CV 1/5; 7/15] END loss=modified_huber, max_iter=500;, score=0.500 total time=   0.7s\n",
      "[CV 2/5; 7/15] START loss=modified_huber, max_iter=500..........................\n",
      "[CV 2/5; 7/15] END loss=modified_huber, max_iter=500;, score=0.500 total time=   0.8s\n",
      "[CV 3/5; 7/15] START loss=modified_huber, max_iter=500..........................\n",
      "[CV 3/5; 7/15] END loss=modified_huber, max_iter=500;, score=0.500 total time=   0.7s\n",
      "[CV 4/5; 7/15] START loss=modified_huber, max_iter=500..........................\n",
      "[CV 4/5; 7/15] END loss=modified_huber, max_iter=500;, score=0.500 total time=   0.7s\n",
      "[CV 5/5; 7/15] START loss=modified_huber, max_iter=500..........................\n",
      "[CV 5/5; 7/15] END loss=modified_huber, max_iter=500;, score=0.500 total time=   0.7s\n",
      "[CV 1/5; 8/15] START loss=modified_huber, max_iter=1000.........................\n",
      "[CV 1/5; 8/15] END loss=modified_huber, max_iter=1000;, score=0.500 total time=   0.7s\n",
      "[CV 2/5; 8/15] START loss=modified_huber, max_iter=1000.........................\n",
      "[CV 2/5; 8/15] END loss=modified_huber, max_iter=1000;, score=0.500 total time=   0.8s\n",
      "[CV 3/5; 8/15] START loss=modified_huber, max_iter=1000.........................\n",
      "[CV 3/5; 8/15] END loss=modified_huber, max_iter=1000;, score=0.500 total time=   0.7s\n",
      "[CV 4/5; 8/15] START loss=modified_huber, max_iter=1000.........................\n",
      "[CV 4/5; 8/15] END loss=modified_huber, max_iter=1000;, score=0.500 total time=   0.7s\n",
      "[CV 5/5; 8/15] START loss=modified_huber, max_iter=1000.........................\n",
      "[CV 5/5; 8/15] END loss=modified_huber, max_iter=1000;, score=0.500 total time=   0.7s\n",
      "[CV 1/5; 9/15] START loss=modified_huber, max_iter=1500.........................\n",
      "[CV 1/5; 9/15] END loss=modified_huber, max_iter=1500;, score=0.500 total time=   0.7s\n",
      "[CV 2/5; 9/15] START loss=modified_huber, max_iter=1500.........................\n",
      "[CV 2/5; 9/15] END loss=modified_huber, max_iter=1500;, score=0.500 total time=   0.7s\n",
      "[CV 3/5; 9/15] START loss=modified_huber, max_iter=1500.........................\n",
      "[CV 3/5; 9/15] END loss=modified_huber, max_iter=1500;, score=0.500 total time=   0.7s\n",
      "[CV 4/5; 9/15] START loss=modified_huber, max_iter=1500.........................\n",
      "[CV 4/5; 9/15] END loss=modified_huber, max_iter=1500;, score=0.500 total time=   0.8s\n",
      "[CV 5/5; 9/15] START loss=modified_huber, max_iter=1500.........................\n",
      "[CV 5/5; 9/15] END loss=modified_huber, max_iter=1500;, score=0.500 total time=   0.7s\n",
      "[CV 1/5; 10/15] START loss=squared_hinge, max_iter=500..........................\n",
      "[CV 1/5; 10/15] END loss=squared_hinge, max_iter=500;, score=0.500 total time=   0.7s\n",
      "[CV 2/5; 10/15] START loss=squared_hinge, max_iter=500..........................\n",
      "[CV 2/5; 10/15] END loss=squared_hinge, max_iter=500;, score=0.500 total time=   0.8s\n",
      "[CV 3/5; 10/15] START loss=squared_hinge, max_iter=500..........................\n",
      "[CV 3/5; 10/15] END loss=squared_hinge, max_iter=500;, score=0.500 total time=   0.7s\n",
      "[CV 4/5; 10/15] START loss=squared_hinge, max_iter=500..........................\n",
      "[CV 4/5; 10/15] END loss=squared_hinge, max_iter=500;, score=0.500 total time=   0.7s\n",
      "[CV 5/5; 10/15] START loss=squared_hinge, max_iter=500..........................\n",
      "[CV 5/5; 10/15] END loss=squared_hinge, max_iter=500;, score=0.500 total time=   0.7s\n",
      "[CV 1/5; 11/15] START loss=squared_hinge, max_iter=1000.........................\n",
      "[CV 1/5; 11/15] END loss=squared_hinge, max_iter=1000;, score=0.500 total time=   0.7s\n",
      "[CV 2/5; 11/15] START loss=squared_hinge, max_iter=1000.........................\n",
      "[CV 2/5; 11/15] END loss=squared_hinge, max_iter=1000;, score=0.500 total time=   0.8s\n",
      "[CV 3/5; 11/15] START loss=squared_hinge, max_iter=1000.........................\n",
      "[CV 3/5; 11/15] END loss=squared_hinge, max_iter=1000;, score=0.500 total time=   0.8s\n",
      "[CV 4/5; 11/15] START loss=squared_hinge, max_iter=1000.........................\n",
      "[CV 4/5; 11/15] END loss=squared_hinge, max_iter=1000;, score=0.500 total time=   0.7s\n",
      "[CV 5/5; 11/15] START loss=squared_hinge, max_iter=1000.........................\n",
      "[CV 5/5; 11/15] END loss=squared_hinge, max_iter=1000;, score=0.500 total time=   0.7s\n",
      "[CV 1/5; 12/15] START loss=squared_hinge, max_iter=1500.........................\n",
      "[CV 1/5; 12/15] END loss=squared_hinge, max_iter=1500;, score=0.500 total time=   0.7s\n",
      "[CV 2/5; 12/15] START loss=squared_hinge, max_iter=1500.........................\n",
      "[CV 2/5; 12/15] END loss=squared_hinge, max_iter=1500;, score=0.500 total time=   0.7s\n",
      "[CV 3/5; 12/15] START loss=squared_hinge, max_iter=1500.........................\n",
      "[CV 3/5; 12/15] END loss=squared_hinge, max_iter=1500;, score=0.500 total time=   0.7s\n",
      "[CV 4/5; 12/15] START loss=squared_hinge, max_iter=1500.........................\n",
      "[CV 4/5; 12/15] END loss=squared_hinge, max_iter=1500;, score=0.500 total time=   0.7s\n",
      "[CV 5/5; 12/15] START loss=squared_hinge, max_iter=1500.........................\n",
      "[CV 5/5; 12/15] END loss=squared_hinge, max_iter=1500;, score=0.500 total time=   0.8s\n",
      "[CV 1/5; 13/15] START loss=perceptron, max_iter=500.............................\n",
      "[CV 1/5; 13/15] END loss=perceptron, max_iter=500;, score=0.500 total time=   0.7s\n",
      "[CV 2/5; 13/15] START loss=perceptron, max_iter=500.............................\n",
      "[CV 2/5; 13/15] END loss=perceptron, max_iter=500;, score=0.500 total time=   0.7s\n",
      "[CV 3/5; 13/15] START loss=perceptron, max_iter=500.............................\n",
      "[CV 3/5; 13/15] END loss=perceptron, max_iter=500;, score=0.500 total time=   0.7s\n",
      "[CV 4/5; 13/15] START loss=perceptron, max_iter=500.............................\n",
      "[CV 4/5; 13/15] END loss=perceptron, max_iter=500;, score=0.500 total time=   0.7s\n",
      "[CV 5/5; 13/15] START loss=perceptron, max_iter=500.............................\n",
      "[CV 5/5; 13/15] END loss=perceptron, max_iter=500;, score=0.500 total time=   0.7s\n",
      "[CV 1/5; 14/15] START loss=perceptron, max_iter=1000............................\n",
      "[CV 1/5; 14/15] END loss=perceptron, max_iter=1000;, score=0.500 total time=   0.7s\n",
      "[CV 2/5; 14/15] START loss=perceptron, max_iter=1000............................\n",
      "[CV 2/5; 14/15] END loss=perceptron, max_iter=1000;, score=0.500 total time=   0.7s\n",
      "[CV 3/5; 14/15] START loss=perceptron, max_iter=1000............................\n",
      "[CV 3/5; 14/15] END loss=perceptron, max_iter=1000;, score=0.500 total time=   0.7s\n",
      "[CV 4/5; 14/15] START loss=perceptron, max_iter=1000............................\n",
      "[CV 4/5; 14/15] END loss=perceptron, max_iter=1000;, score=0.500 total time=   0.7s\n",
      "[CV 5/5; 14/15] START loss=perceptron, max_iter=1000............................\n",
      "[CV 5/5; 14/15] END loss=perceptron, max_iter=1000;, score=0.500 total time=   0.8s\n",
      "[CV 1/5; 15/15] START loss=perceptron, max_iter=1500............................\n",
      "[CV 1/5; 15/15] END loss=perceptron, max_iter=1500;, score=0.500 total time=   0.7s\n",
      "[CV 2/5; 15/15] START loss=perceptron, max_iter=1500............................\n",
      "[CV 2/5; 15/15] END loss=perceptron, max_iter=1500;, score=0.500 total time=   0.7s\n",
      "[CV 3/5; 15/15] START loss=perceptron, max_iter=1500............................\n",
      "[CV 3/5; 15/15] END loss=perceptron, max_iter=1500;, score=0.500 total time=   0.7s\n",
      "[CV 4/5; 15/15] START loss=perceptron, max_iter=1500............................\n",
      "[CV 4/5; 15/15] END loss=perceptron, max_iter=1500;, score=0.500 total time=   0.7s\n",
      "[CV 5/5; 15/15] START loss=perceptron, max_iter=1500............................\n",
      "[CV 5/5; 15/15] END loss=perceptron, max_iter=1500;, score=0.500 total time=   0.8s\n",
      "Best parameters for random forest Classifier:  {'loss': 'hinge', 'max_iter': 500} \n",
      "\n"
     ]
    }
   ],
   "source": [
    "from sklearn.model_selection import GridSearchCV\n",
    "tuned_paramaters = [{'max_iter': [500, 1000, 1500],\n",
    "    'loss': ['hinge', 'log', 'modified_huber', 'squared_hinge', 'perceptron']}]\n",
    "rf_grid = GridSearchCV(estimator = svm, \n",
    "                       param_grid = tuned_paramaters, \n",
    "                       cv = 5,\n",
    "                       scoring = 'accuracy',\n",
    "                       verbose = 10)\n",
    "rf_model = rf_grid.fit(cv_train_reviews,train_sentiments)\n",
    "\n",
    "# get the best parameters\n",
    "print('Best parameters for random forest Classifier: ', rf_model.best_params_, '\\n')"
   ]
  },
  {
   "cell_type": "code",
   "execution_count": null,
   "metadata": {
    "id": "KihPOd7gm5H9"
   },
   "outputs": [],
   "source": [
    "# Best parameters for random forest Classifier:  {'loss': 'hinge', 'max_iter': 500}"
   ]
  },
  {
   "cell_type": "markdown",
   "metadata": {
    "id": "kTM8qpf7GjlZ"
   },
   "source": [
    "**Multinomial Naive Bayes for bag of words and tfidf features**"
   ]
  },
  {
   "cell_type": "code",
   "execution_count": null,
   "metadata": {
    "ExecuteTime": {
     "end_time": "2022-04-08T11:42:22.789990Z",
     "start_time": "2022-04-08T11:42:21.042265Z"
    },
    "colab": {
     "base_uri": "https://localhost:8080/"
    },
    "id": "Qe88h49yGjlZ",
    "outputId": "857f568a-0242-4e34-fade-09762ac83da0"
   },
   "outputs": [
    {
     "name": "stdout",
     "output_type": "stream",
     "text": [
      "MultinomialNB(alpha=0)\n",
      "MultinomialNB(alpha=0)\n"
     ]
    }
   ],
   "source": [
    "#training the model\n",
    "mnb=MultinomialNB(alpha=0,\n",
    "                  class_prior= None,\n",
    "                  fit_prior= True)\n",
    "\n",
    "#fitting the svm for bag of words\n",
    "mnb_bow=mnb.fit(cv_train_reviews,train_sentiments)\n",
    "print(mnb_bow)\n",
    "#fitting the svm for tfidf features\n",
    "mnb_tfidf=mnb.fit(tv_train_reviews,train_sentiments)\n",
    "print(mnb_tfidf)"
   ]
  },
  {
   "cell_type": "code",
   "execution_count": null,
   "metadata": {
    "colab": {
     "base_uri": "https://localhost:8080/"
    },
    "id": "mNRjUQt7R9X3",
    "outputId": "a3cac8e2-38bf-4225-a4d0-d76539b0be5f"
   },
   "outputs": [
    {
     "data": {
      "text/plain": [
       "dict_items([('alpha', 0), ('class_prior', None), ('fit_prior', True)])"
      ]
     },
     "execution_count": 80,
     "metadata": {},
     "output_type": "execute_result"
    }
   ],
   "source": [
    "mnb.get_params().items()"
   ]
  },
  {
   "cell_type": "markdown",
   "metadata": {
    "id": "5JLTuTnsGjlZ"
   },
   "source": [
    "**Model performance on test data**"
   ]
  },
  {
   "cell_type": "code",
   "execution_count": null,
   "metadata": {
    "ExecuteTime": {
     "end_time": "2022-04-08T11:42:23.127188Z",
     "start_time": "2022-04-08T11:42:22.791791Z"
    },
    "colab": {
     "base_uri": "https://localhost:8080/"
    },
    "id": "zfTge73kGjlZ",
    "outputId": "098b5ccd-a09d-49bb-fcc7-07e731e7231d"
   },
   "outputs": [
    {
     "name": "stdout",
     "output_type": "stream",
     "text": [
      "[0 0 0 ... 0 1 1]\n",
      "[0 0 0 ... 0 1 1]\n"
     ]
    }
   ],
   "source": [
    "#Predicting the model for bag of words\n",
    "mnb_bow_predict=mnb.predict(cv_test_reviews)\n",
    "print(mnb_bow_predict)\n",
    "#Predicting the model for tfidf features\n",
    "mnb_tfidf_predict=mnb.predict(tv_test_reviews)\n",
    "print(mnb_tfidf_predict)"
   ]
  },
  {
   "cell_type": "markdown",
   "metadata": {
    "id": "Biq7_Mb2GjlZ"
   },
   "source": [
    "**Accuracy of the model**"
   ]
  },
  {
   "cell_type": "code",
   "execution_count": null,
   "metadata": {
    "ExecuteTime": {
     "end_time": "2022-04-08T11:42:23.159400Z",
     "start_time": "2022-04-08T11:42:23.133073Z"
    },
    "colab": {
     "base_uri": "https://localhost:8080/"
    },
    "id": "LA6jfurkGjlZ",
    "outputId": "4fad3894-c388-4489-a104-8eadf29db6e0"
   },
   "outputs": [
    {
     "name": "stdout",
     "output_type": "stream",
     "text": [
      "mnb_bow_score : 0.7496\n",
      "mnb_tfidf_score : 0.7496\n"
     ]
    }
   ],
   "source": [
    "#Accuracy score for bag of words\n",
    "mnb_bow_score=accuracy_score(test_sentiments,mnb_bow_predict)\n",
    "print(\"mnb_bow_score :\",mnb_bow_score)\n",
    "#Accuracy score for tfidf features\n",
    "mnb_tfidf_score=accuracy_score(test_sentiments,mnb_tfidf_predict)\n",
    "print(\"mnb_tfidf_score :\",mnb_tfidf_score)"
   ]
  },
  {
   "cell_type": "markdown",
   "metadata": {
    "id": "ZE1sRFSeGjlZ"
   },
   "source": [
    "**Print the classification report**"
   ]
  },
  {
   "cell_type": "code",
   "execution_count": null,
   "metadata": {
    "ExecuteTime": {
     "end_time": "2022-04-08T11:42:23.274694Z",
     "start_time": "2022-04-08T11:42:23.175854Z"
    },
    "colab": {
     "base_uri": "https://localhost:8080/"
    },
    "id": "1QW4ProzGjlZ",
    "outputId": "9eb1f0d5-c1f7-43a7-dea6-ed27863f9834"
   },
   "outputs": [
    {
     "name": "stdout",
     "output_type": "stream",
     "text": [
      "              precision    recall  f1-score   support\n",
      "\n",
      "    Positive       0.75      0.74      0.75      4993\n",
      "    Negative       0.75      0.76      0.75      5007\n",
      "\n",
      "    accuracy                           0.75     10000\n",
      "   macro avg       0.75      0.75      0.75     10000\n",
      "weighted avg       0.75      0.75      0.75     10000\n",
      "\n",
      "              precision    recall  f1-score   support\n",
      "\n",
      "    Positive       0.75      0.74      0.75      4993\n",
      "    Negative       0.75      0.76      0.75      5007\n",
      "\n",
      "    accuracy                           0.75     10000\n",
      "   macro avg       0.75      0.75      0.75     10000\n",
      "weighted avg       0.75      0.75      0.75     10000\n",
      "\n"
     ]
    }
   ],
   "source": [
    "#Classification report for bag of words \n",
    "mnb_bow_report=classification_report(test_sentiments,mnb_bow_predict,target_names=['Positive','Negative'])\n",
    "print(mnb_bow_report)\n",
    "#Classification report for tfidf features\n",
    "mnb_tfidf_report=classification_report(test_sentiments,mnb_tfidf_predict,target_names=['Positive','Negative'])\n",
    "print(mnb_tfidf_report)"
   ]
  },
  {
   "cell_type": "markdown",
   "metadata": {
    "id": "rh4rX4gnGjlZ"
   },
   "source": [
    "**Plot the confusion matrix**"
   ]
  },
  {
   "cell_type": "code",
   "execution_count": null,
   "metadata": {
    "ExecuteTime": {
     "end_time": "2022-04-08T11:42:23.330907Z",
     "start_time": "2022-04-08T11:42:23.274694Z"
    },
    "colab": {
     "base_uri": "https://localhost:8080/"
    },
    "id": "gBCHyyxKGjla",
    "outputId": "4d4e5e24-f5cd-4421-fcce-8ec105adee4d"
   },
   "outputs": [
    {
     "name": "stdout",
     "output_type": "stream",
     "text": [
      "[[3736 1271]\n",
      " [1219 3774]]\n",
      "[[3729 1278]\n",
      " [1213 3780]]\n"
     ]
    }
   ],
   "source": [
    "#confusion matrix for bag of words\n",
    "cm_bow=confusion_matrix(test_sentiments,mnb_bow_predict,labels=[1,0])\n",
    "print(cm_bow)\n",
    "#confusion matrix for tfidf features\n",
    "cm_tfidf=confusion_matrix(test_sentiments,mnb_tfidf_predict,labels=[1,0])\n",
    "print(cm_tfidf)"
   ]
  },
  {
   "cell_type": "code",
   "execution_count": null,
   "metadata": {
    "colab": {
     "base_uri": "https://localhost:8080/"
    },
    "id": "9MdPwxwPGjla",
    "outputId": "4dfcc2aa-6717-4382-c68e-01f43f1763ce"
   },
   "outputs": [
    {
     "name": "stdout",
     "output_type": "stream",
     "text": [
      "Best parameters for random forest Classifier:  {'alpha': 0, 'fit_prior': True} \n",
      "\n"
     ]
    }
   ],
   "source": [
    "tuned_paramaters = [{'alpha': [0, 1, 2],\n",
    "    'fit_prior': [True, False]}]\n",
    "rf_grid = GridSearchCV(estimator = mnb, \n",
    "                       param_grid = tuned_paramaters, \n",
    "                       cv = 5,\n",
    "                       scoring = 'accuracy')\n",
    "rf_model = rf_grid.fit(cv_train_reviews,train_sentiments)\n",
    "\n",
    "# get the best parameters\n",
    "print('Best parameters for random forest Classifier: ', rf_model.best_params_, '\\n')"
   ]
  },
  {
   "cell_type": "code",
   "execution_count": null,
   "metadata": {
    "colab": {
     "base_uri": "https://localhost:8080/"
    },
    "id": "lvE13vXuTx0b",
    "outputId": "07c01b10-2994-4598-820e-b46102d78190"
   },
   "outputs": [
    {
     "data": {
      "text/plain": [
       "dict_keys(['explained_variance', 'r2', 'max_error', 'neg_median_absolute_error', 'neg_mean_absolute_error', 'neg_mean_absolute_percentage_error', 'neg_mean_squared_error', 'neg_mean_squared_log_error', 'neg_root_mean_squared_error', 'neg_mean_poisson_deviance', 'neg_mean_gamma_deviance', 'accuracy', 'top_k_accuracy', 'roc_auc', 'roc_auc_ovr', 'roc_auc_ovo', 'roc_auc_ovr_weighted', 'roc_auc_ovo_weighted', 'balanced_accuracy', 'average_precision', 'neg_log_loss', 'neg_brier_score', 'adjusted_rand_score', 'rand_score', 'homogeneity_score', 'completeness_score', 'v_measure_score', 'mutual_info_score', 'adjusted_mutual_info_score', 'normalized_mutual_info_score', 'fowlkes_mallows_score', 'precision', 'precision_macro', 'precision_micro', 'precision_samples', 'precision_weighted', 'recall', 'recall_macro', 'recall_micro', 'recall_samples', 'recall_weighted', 'f1', 'f1_macro', 'f1_micro', 'f1_samples', 'f1_weighted', 'jaccard', 'jaccard_macro', 'jaccard_micro', 'jaccard_samples', 'jaccard_weighted'])"
      ]
     },
     "execution_count": 87,
     "metadata": {},
     "output_type": "execute_result"
    }
   ],
   "source": [
    "import sklearn\n",
    "sklearn.metrics.SCORERS.keys()"
   ]
  },
  {
   "cell_type": "markdown",
   "metadata": {
    "id": "a8PmaJ2fGjla"
   },
   "source": [
    "Random Forest"
   ]
  },
  {
   "cell_type": "code",
   "execution_count": null,
   "metadata": {
    "id": "4nVHB-OcGjla"
   },
   "outputs": [],
   "source": [
    "from sklearn.ensemble import RandomForestClassifier"
   ]
  },
  {
   "cell_type": "markdown",
   "metadata": {
    "id": "NkqWTVPTGjla"
   },
   "source": [
    "**Let us see positive and negative words by using WordCloud.**"
   ]
  },
  {
   "cell_type": "markdown",
   "metadata": {
    "id": "9lSqXcPWGjla"
   },
   "source": [
    "**Word cloud for positive review words**"
   ]
  },
  {
   "cell_type": "code",
   "execution_count": null,
   "metadata": {
    "ExecuteTime": {
     "end_time": "2022-04-08T11:42:25.611379Z",
     "start_time": "2022-04-08T11:42:23.331925Z"
    },
    "colab": {
     "base_uri": "https://localhost:8080/",
     "height": 349
    },
    "id": "qSI1ykNtGjla",
    "outputId": "1724b9be-3bd4-4b6a-ae57-df7fe2a7a139"
   },
   "outputs": [
    {
     "data": {
      "text/plain": [
       "<function matplotlib.pyplot.show>"
      ]
     },
     "execution_count": 37,
     "metadata": {},
     "output_type": "execute_result"
    },
    {
     "data": {
      "image/png": "[encoded data removed]",
      "text/plain": [
       "<Figure size 720x720 with 1 Axes>"
      ]
     },
     "metadata": {
      "needs_background": "light"
     },
     "output_type": "display_data"
    }
   ],
   "source": [
    "#word cloud for positive review words\n",
    "plt.figure(figsize=(10,10))\n",
    "positive_text=norm_train_reviews[1]\n",
    "WC=WordCloud(width=1000,height=500,max_words=500,min_font_size=5)\n",
    "positive_words=WC.generate(positive_text)\n",
    "plt.imshow(positive_words,interpolation='bilinear')\n",
    "plt.show"
   ]
  },
  {
   "cell_type": "markdown",
   "metadata": {
    "id": "Txzr68Z3Gjla"
   },
   "source": [
    "**Word cloud for negative review words**"
   ]
  },
  {
   "cell_type": "code",
   "execution_count": null,
   "metadata": {
    "ExecuteTime": {
     "end_time": "2022-04-08T11:42:27.491944Z",
     "start_time": "2022-04-08T11:42:25.614530Z"
    },
    "colab": {
     "base_uri": "https://localhost:8080/",
     "height": 349
    },
    "id": "KaqWD1HbGjla",
    "outputId": "23f08bd0-8138-4fc0-a786-f20673db1cf6"
   },
   "outputs": [
    {
     "data": {
      "text/plain": [
       "<function matplotlib.pyplot.show>"
      ]
     },
     "execution_count": 38,
     "metadata": {},
     "output_type": "execute_result"
    },
    {
     "data": {
      "image/png": "[encoded data removed]",
      "text/plain": [
       "<Figure size 720x720 with 1 Axes>"
      ]
     },
     "metadata": {
      "needs_background": "light"
     },
     "output_type": "display_data"
    }
   ],
   "source": [
    "#Word cloud for negative review words\n",
    "plt.figure(figsize=(10,10))\n",
    "negative_text=norm_train_reviews[8]\n",
    "WC=WordCloud(width=1000,height=500,max_words=500,min_font_size=5)\n",
    "negative_words=WC.generate(negative_text)\n",
    "plt.imshow(negative_words,interpolation='bilinear')\n",
    "plt.show"
   ]
  },
  {
   "cell_type": "markdown",
   "metadata": {
    "id": "SA2QeiFQGjla"
   },
   "source": [
    "**Conclusion:**\n",
    "* We can observed that both logistic regression and multinomial naive bayes model performing well compared to linear support vector  machines.\n",
    "* Still we can improve the accuracy of the models by preprocessing data and by using lexicon models like Textblob."
   ]
  }
 ],
 "metadata": {
  "colab": {
   "collapsed_sections": [],
   "name": "SGD_sentiment_analysis_of_imdb_movie_reviews.ipynb",
   "provenance": []
  },
  "kernelspec": {
   "display_name": "Python 3 (ipykernel)",
   "language": "python",
   "name": "python3"
  },
  "language_info": {
   "codemirror_mode": {
    "name": "ipython",
    "version": 3
   },
   "file_extension": ".py",
   "mimetype": "text/x-python",
   "name": "python",
   "nbconvert_exporter": "python",
   "pygments_lexer": "ipython3",
   "version": "3.8.8"
  },
  "toc": {
   "base_numbering": 1,
   "nav_menu": {},
   "number_sections": true,
   "sideBar": true,
   "skip_h1_title": false,
   "title_cell": "Table of Contents",
   "title_sidebar": "Contents",
   "toc_cell": false,
   "toc_position": {},
   "toc_section_display": true,
   "toc_window_display": false
  },
  "varInspector": {
   "cols": {
    "lenName": 16,
    "lenType": 16,
    "lenVar": 40
   },
   "kernels_config": {
    "python": {
     "delete_cmd_postfix": "",
     "delete_cmd_prefix": "del ",
     "library": "var_list.py",
     "varRefreshCmd": "print(var_dic_list())"
    },
    "r": {
     "delete_cmd_postfix": ") ",
     "delete_cmd_prefix": "rm(",
     "library": "var_list.r",
     "varRefreshCmd": "cat(var_dic_list()) "
    }
   },
   "types_to_exclude": [
    "module",
    "function",
    "builtin_function_or_method",
    "instance",
    "_Feature"
   ],
   "window_display": false
  }
 },
 "nbformat": 4,
 "nbformat_minor": 1
}
